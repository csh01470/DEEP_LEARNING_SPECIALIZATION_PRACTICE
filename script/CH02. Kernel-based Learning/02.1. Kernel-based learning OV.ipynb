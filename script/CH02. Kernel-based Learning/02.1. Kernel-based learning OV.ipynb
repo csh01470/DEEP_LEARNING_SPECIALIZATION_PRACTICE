{
 "cells": [
  {
   "cell_type": "markdown",
   "metadata": {},
   "source": [
    "# CH02.1. **Kernel-based Learning Overview**"
   ]
  }
 ],
 "metadata": {
  "language_info": {
   "name": "python"
  }
 },
 "nbformat": 4,
 "nbformat_minor": 2
}
