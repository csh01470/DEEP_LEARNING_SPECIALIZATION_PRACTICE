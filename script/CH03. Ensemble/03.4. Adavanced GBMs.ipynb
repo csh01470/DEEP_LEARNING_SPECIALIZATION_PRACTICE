{
 "cells": [
  {
   "cell_type": "markdown",
   "metadata": {},
   "source": [
    "# CH03.4. **Advanced Gradient Boosting Models**"
   ]
  },
  {
   "cell_type": "markdown",
   "metadata": {},
   "source": [
    "> ## **eXtreme Gradient Boosting(XGBoost)**"
   ]
  },
  {
   "cell_type": "markdown",
   "metadata": {},
   "source": [
    "#### **(1) 정의** : "
   ]
  },
  {
   "cell_type": "markdown",
   "metadata": {},
   "source": [
    "#### **(2) 특징** : \n",
    "#### $ \\hspace{0.15cm} $ ① \n",
    "#### $ \\hspace{0.15cm} $ ② \n",
    "#### $ \\hspace{0.15cm} $ ③"
   ]
  },
  {
   "cell_type": "markdown",
   "metadata": {},
   "source": [
    "#### **(3) 장점** : \n",
    "#### $ \\hspace{0.15cm} $ ① \n",
    "#### $ \\hspace{0.15cm} $ ② \n",
    "#### $ \\hspace{0.15cm} $ ③"
   ]
  },
  {
   "cell_type": "markdown",
   "metadata": {},
   "source": [
    "#### **(4) 단점** : \n",
    "#### $ \\hspace{0.15cm} $ ① \n",
    "#### $ \\hspace{0.15cm} $ ② \n",
    "#### $ \\hspace{0.15cm} $ ③"
   ]
  },
  {
   "cell_type": "markdown",
   "metadata": {},
   "source": [
    "#### **(`PLUS`) Pseudo Code** :\n",
    "```python\n",
    "def XGBoost(data, labels, num_iterations, learning_rate, max_depth, regularization_params) :\n",
    "    F_0 = initial_prediction(labels)\n",
    "    trees = []\n",
    "    for m in range(num_iterations) :\n",
    "        gradient, hessian = compute_gradient_hessian(labels, F)\n",
    "        tree = BuildTree(data, gradient, hessian, max_depth, regularization_params)\n",
    "        trees.append(tree)\n",
    "        F = update_prediction(F, tree, learning_rate)\n",
    "    return trees, F_0\n",
    "\n",
    "```"
   ]
  },
  {
   "cell_type": "markdown",
   "metadata": {},
   "source": [
    "<b></b>"
   ]
  },
  {
   "cell_type": "markdown",
   "metadata": {},
   "source": [
    "> ## **LightGBM**"
   ]
  },
  {
   "cell_type": "markdown",
   "metadata": {},
   "source": [
    "#### **(1) 정의** : "
   ]
  },
  {
   "cell_type": "markdown",
   "metadata": {},
   "source": [
    "#### **(2) 특징** : \n",
    "#### $ \\hspace{0.15cm} $ ① \n",
    "#### $ \\hspace{0.15cm} $ ② \n",
    "#### $ \\hspace{0.15cm} $ ③"
   ]
  },
  {
   "cell_type": "markdown",
   "metadata": {},
   "source": [
    "#### **(3) 장점** : \n",
    "#### $ \\hspace{0.15cm} $ ① \n",
    "#### $ \\hspace{0.15cm} $ ② \n",
    "#### $ \\hspace{0.15cm} $ ③"
   ]
  },
  {
   "cell_type": "markdown",
   "metadata": {},
   "source": [
    "#### **(4) 단점** : \n",
    "#### $ \\hspace{0.15cm} $ ① \n",
    "#### $ \\hspace{0.15cm} $ ② \n",
    "#### $ \\hspace{0.15cm} $ ③"
   ]
  },
  {
   "cell_type": "markdown",
   "metadata": {},
   "source": [
    "#### **(`PLUS`) Pseudo Code** :\n",
    "```python\n",
    "def LightGBM(data, labels, num_iterations, learning_rate, max_depth, num_leaves, feature_fraction, bagging_fraction) :\n",
    "    F_0 = initial_prediction(labels)\n",
    "    F = [F_0] * N\n",
    "    trees = []\n",
    "\n",
    "    for m in range(num_iterations) :\n",
    "        # Gradient and Hessian computation\n",
    "        gradient, hessian = compute_gradient_hessian(labels, F)\n",
    "        \n",
    "        # Feature bundling (EFB)\n",
    "        bundled_features = exclusive_feature_bundling(data, feature_fraction)\n",
    "        \n",
    "        # Gradient-based One-Side Sampling (GOSS)\n",
    "        sampled_data, sampled_gradient, sampled_hessian = goss_sampling(data, gradient, hessian, bagging_fraction)\n",
    "        \n",
    "        # Build Leaf-wise Tree\n",
    "        tree = BuildLeafWiseTree(sampled_data, sampled_gradient, sampled_hessian, max_depth, num_leaves)\n",
    "        trees.append(tree)\n",
    "        \n",
    "        # Update predictions\n",
    "        update = tree.predict(data)\n",
    "        F = F + learning_rate * update\n",
    "    \n",
    "    return trees, F_0\n",
    "```"
   ]
  },
  {
   "cell_type": "markdown",
   "metadata": {},
   "source": [
    "<b></b>"
   ]
  },
  {
   "cell_type": "markdown",
   "metadata": {},
   "source": [
    "> ## **CatBoost**"
   ]
  },
  {
   "cell_type": "markdown",
   "metadata": {},
   "source": [
    "#### **(1) 정의** : "
   ]
  },
  {
   "cell_type": "markdown",
   "metadata": {},
   "source": [
    "#### **(2) 특징** : \n",
    "#### $ \\hspace{0.15cm} $ ① \n",
    "#### $ \\hspace{0.15cm} $ ② \n",
    "#### $ \\hspace{0.15cm} $ ③"
   ]
  },
  {
   "cell_type": "markdown",
   "metadata": {},
   "source": [
    "#### **(3) 장점** : \n",
    "#### $ \\hspace{0.15cm} $ ① \n",
    "#### $ \\hspace{0.15cm} $ ② \n",
    "#### $ \\hspace{0.15cm} $ ③"
   ]
  },
  {
   "cell_type": "markdown",
   "metadata": {},
   "source": [
    "#### **(4) 단점** : \n",
    "#### $ \\hspace{0.15cm} $ ① \n",
    "#### $ \\hspace{0.15cm} $ ② \n",
    "#### $ \\hspace{0.15cm} $ ③"
   ]
  },
  {
   "cell_type": "markdown",
   "metadata": {},
   "source": [
    "#### **(`PLUS`) Pseudo Code** :\n",
    "```python\n",
    "def CatBoost(data, labels, num_iterations, learning_rate, max_depth, cat_features, permutations) :\n",
    "    F_0 = initial_prediction(labels)\n",
    "    F = [F_0] * N\n",
    "    trees = []\n",
    "    \n",
    "    # Generate permutations for ordered boosting\n",
    "    permuted_indices = generate_permutations(N, permutations)\n",
    "    \n",
    "    for m in range(num_iterations):\n",
    "        for perm in permuted_indices:\n",
    "            # Compute gradients using current predictions excluding the current permutation\n",
    "            gradient = compute_gradient(labels, F, perm)\n",
    "            \n",
    "            # Preprocess categorical features with ordered encoding\n",
    "            processed_data = preprocess_categorical_ordered(data, cat_features, perm)\n",
    "            \n",
    "            # Build symmetric tree to ensure balanced structure\n",
    "            tree = BuildSymmetricTree(processed_data, gradient, max_depth)\n",
    "            trees.append(tree)\n",
    "            \n",
    "            # Update predictions\n",
    "            update = tree.predict(data)\n",
    "            F = F + learning_rate * update\n",
    "    \n",
    "    return trees, F_0\n",
    "```"
   ]
  }
 ],
 "metadata": {
  "language_info": {
   "name": "python"
  }
 },
 "nbformat": 4,
 "nbformat_minor": 2
}
